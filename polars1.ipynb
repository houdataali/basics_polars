{
 "cells": [
  {
   "cell_type": "markdown",
   "source": [
    "**Loading data from a csv file**"
   ],
   "metadata": {
    "collapsed": false
   }
  },
  {
   "cell_type": "code",
   "execution_count": 1,
   "outputs": [],
   "source": [
    "# imports\n",
    "import pandas as pd\n",
    "import polars as pl\n",
    "from datetime import datetime"
   ],
   "metadata": {
    "collapsed": false,
    "ExecuteTime": {
     "start_time": "2023-04-06T09:09:17.160065Z",
     "end_time": "2023-04-06T09:09:19.311474Z"
    }
   }
  },
  {
   "cell_type": "markdown",
   "source": [
    "**Eager Csv reading with read_csv**"
   ],
   "metadata": {
    "collapsed": false
   }
  },
  {
   "cell_type": "code",
   "execution_count": 2,
   "outputs": [
    {
     "data": {
      "text/plain": "shape: (3, 7)\n┌────────────┬──────────┬──────────┬──────────┬──────────┬───────────┬───────────┐\n│ Date       ┆ Open     ┆ High     ┆ Low      ┆ Close    ┆ Adj Close ┆ Volume    │\n│ ---        ┆ ---      ┆ ---      ┆ ---      ┆ ---      ┆ ---       ┆ ---       │\n│ str        ┆ f64      ┆ f64      ┆ f64      ┆ f64      ┆ f64       ┆ i64       │\n╞════════════╪══════════╪══════════╪══════════╪══════════╪═══════════╪═══════════╡\n│ 1980-12-12 ┆ 0.128348 ┆ 0.128906 ┆ 0.128348 ┆ 0.128348 ┆ 0.100178  ┆ 469033600 │\n│ 1980-12-15 ┆ 0.12221  ┆ 0.12221  ┆ 0.121652 ┆ 0.121652 ┆ 0.094952  ┆ 175884800 │\n│ 1980-12-16 ┆ 0.113281 ┆ 0.113281 ┆ 0.112723 ┆ 0.112723 ┆ 0.087983  ┆ 105728000 │\n└────────────┴──────────┴──────────┴──────────┴──────────┴───────────┴───────────┘",
      "text/html": "<div><style>\n.dataframe > thead > tr > th,\n.dataframe > tbody > tr > td {\n  text-align: right;\n}\n</style>\n<small>shape: (3, 7)</small><table border=\"1\" class=\"dataframe\"><thead><tr><th>Date</th><th>Open</th><th>High</th><th>Low</th><th>Close</th><th>Adj Close</th><th>Volume</th></tr><tr><td>str</td><td>f64</td><td>f64</td><td>f64</td><td>f64</td><td>f64</td><td>i64</td></tr></thead><tbody><tr><td>&quot;1980-12-12&quot;</td><td>0.128348</td><td>0.128906</td><td>0.128348</td><td>0.128348</td><td>0.100178</td><td>469033600</td></tr><tr><td>&quot;1980-12-15&quot;</td><td>0.12221</td><td>0.12221</td><td>0.121652</td><td>0.121652</td><td>0.094952</td><td>175884800</td></tr><tr><td>&quot;1980-12-16&quot;</td><td>0.113281</td><td>0.113281</td><td>0.112723</td><td>0.112723</td><td>0.087983</td><td>105728000</td></tr></tbody></table></div>"
     },
     "execution_count": 2,
     "metadata": {},
     "output_type": "execute_result"
    }
   ],
   "source": [
    "df = pl.read_csv(\"src/Apple.csv\")\n",
    "df.head(3)"
   ],
   "metadata": {
    "collapsed": false,
    "ExecuteTime": {
     "start_time": "2023-04-06T09:09:19.316341Z",
     "end_time": "2023-04-06T09:09:19.415918Z"
    }
   }
  },
  {
   "cell_type": "code",
   "execution_count": 3,
   "outputs": [
    {
     "data": {
      "text/plain": "shape: (3, 7)\n┌────────────┬──────────┬──────────┬──────────┬──────────┬───────────┬───────────┐\n│ Date       ┆ Open     ┆ High     ┆ Low      ┆ Close    ┆ Adj Close ┆ Volume    │\n│ ---        ┆ ---      ┆ ---      ┆ ---      ┆ ---      ┆ ---       ┆ ---       │\n│ date       ┆ f64      ┆ f64      ┆ f64      ┆ f64      ┆ f64       ┆ i64       │\n╞════════════╪══════════╪══════════╪══════════╪══════════╪═══════════╪═══════════╡\n│ 1980-12-12 ┆ 0.128348 ┆ 0.128906 ┆ 0.128348 ┆ 0.128348 ┆ 0.100178  ┆ 469033600 │\n│ 1980-12-15 ┆ 0.12221  ┆ 0.12221  ┆ 0.121652 ┆ 0.121652 ┆ 0.094952  ┆ 175884800 │\n│ 1980-12-16 ┆ 0.113281 ┆ 0.113281 ┆ 0.112723 ┆ 0.112723 ┆ 0.087983  ┆ 105728000 │\n└────────────┴──────────┴──────────┴──────────┴──────────┴───────────┴───────────┘",
      "text/html": "<div><style>\n.dataframe > thead > tr > th,\n.dataframe > tbody > tr > td {\n  text-align: right;\n}\n</style>\n<small>shape: (3, 7)</small><table border=\"1\" class=\"dataframe\"><thead><tr><th>Date</th><th>Open</th><th>High</th><th>Low</th><th>Close</th><th>Adj Close</th><th>Volume</th></tr><tr><td>date</td><td>f64</td><td>f64</td><td>f64</td><td>f64</td><td>f64</td><td>i64</td></tr></thead><tbody><tr><td>1980-12-12</td><td>0.128348</td><td>0.128906</td><td>0.128348</td><td>0.128348</td><td>0.100178</td><td>469033600</td></tr><tr><td>1980-12-15</td><td>0.12221</td><td>0.12221</td><td>0.121652</td><td>0.121652</td><td>0.094952</td><td>175884800</td></tr><tr><td>1980-12-16</td><td>0.113281</td><td>0.113281</td><td>0.112723</td><td>0.112723</td><td>0.087983</td><td>105728000</td></tr></tbody></table></div>"
     },
     "execution_count": 3,
     "metadata": {},
     "output_type": "execute_result"
    }
   ],
   "source": [
    "# parse dates during csv reading\n",
    "df = pl.read_csv(\"src/Apple.csv\", try_parse_dates=True)\n",
    "df.head(3)"
   ],
   "metadata": {
    "collapsed": false,
    "ExecuteTime": {
     "start_time": "2023-04-06T09:09:19.415918Z",
     "end_time": "2023-04-06T09:09:19.441075Z"
    }
   }
  },
  {
   "cell_type": "markdown",
   "source": [
    "**lazy csv reading with scan_csv**"
   ],
   "metadata": {
    "collapsed": false
   }
  },
  {
   "cell_type": "code",
   "execution_count": 4,
   "outputs": [
    {
     "data": {
      "text/plain": "<polars.LazyFrame object at 0x7F06402C1C70>",
      "text/html": "<i>naive plan: (run <b>LazyFrame.explain(optimized=True)</b> to see the optimized plan)</i>\n    <p></p>\n    <div><p></p>  CSV SCAN src/Apple.csv<p></p>  PROJECT */7 COLUMNS</div>"
     },
     "execution_count": 4,
     "metadata": {},
     "output_type": "execute_result"
    }
   ],
   "source": [
    "df_lazy = pl.scan_csv(\"src/Apple.csv\")\n",
    "df_lazy"
   ],
   "metadata": {
    "collapsed": false,
    "ExecuteTime": {
     "start_time": "2023-04-06T09:09:19.484408Z",
     "end_time": "2023-04-06T09:09:19.668790Z"
    }
   }
  },
  {
   "cell_type": "code",
   "execution_count": 5,
   "outputs": [
    {
     "data": {
      "text/plain": "polars.lazyframe.frame.LazyFrame"
     },
     "execution_count": 5,
     "metadata": {},
     "output_type": "execute_result"
    }
   ],
   "source": [
    "type(df_lazy)"
   ],
   "metadata": {
    "collapsed": false,
    "ExecuteTime": {
     "start_time": "2023-04-06T09:09:19.517031Z",
     "end_time": "2023-04-06T09:09:19.669967Z"
    }
   }
  },
  {
   "cell_type": "code",
   "execution_count": 6,
   "outputs": [
    {
     "data": {
      "text/plain": "['Date', 'Open', 'High', 'Low', 'Close', 'Adj Close', 'Volume']"
     },
     "execution_count": 6,
     "metadata": {},
     "output_type": "execute_result"
    }
   ],
   "source": [
    "df_lazy.columns"
   ],
   "metadata": {
    "collapsed": false,
    "ExecuteTime": {
     "start_time": "2023-04-06T09:09:19.530387Z",
     "end_time": "2023-04-06T09:09:19.669967Z"
    }
   }
  },
  {
   "cell_type": "code",
   "execution_count": 7,
   "outputs": [],
   "source": [
    "df_lazy = pl.scan_csv(\"src/Apple.csv\", try_parse_dates=True)"
   ],
   "metadata": {
    "collapsed": false,
    "ExecuteTime": {
     "start_time": "2023-04-06T09:09:19.544167Z",
     "end_time": "2023-04-06T09:09:19.684109Z"
    }
   }
  },
  {
   "cell_type": "code",
   "execution_count": 8,
   "outputs": [
    {
     "data": {
      "text/plain": "shape: (3, 7)\n┌────────────┬──────────┬──────────┬──────────┬──────────┬───────────┬───────────┐\n│ Date       ┆ Open     ┆ High     ┆ Low      ┆ Close    ┆ Adj Close ┆ Volume    │\n│ ---        ┆ ---      ┆ ---      ┆ ---      ┆ ---      ┆ ---       ┆ ---       │\n│ date       ┆ f64      ┆ f64      ┆ f64      ┆ f64      ┆ f64       ┆ i64       │\n╞════════════╪══════════╪══════════╪══════════╪══════════╪═══════════╪═══════════╡\n│ 1980-12-12 ┆ 0.128348 ┆ 0.128906 ┆ 0.128348 ┆ 0.128348 ┆ 0.100178  ┆ 469033600 │\n│ 1980-12-15 ┆ 0.12221  ┆ 0.12221  ┆ 0.121652 ┆ 0.121652 ┆ 0.094952  ┆ 175884800 │\n│ 1980-12-16 ┆ 0.113281 ┆ 0.113281 ┆ 0.112723 ┆ 0.112723 ┆ 0.087983  ┆ 105728000 │\n└────────────┴──────────┴──────────┴──────────┴──────────┴───────────┴───────────┘",
      "text/html": "<div><style>\n.dataframe > thead > tr > th,\n.dataframe > tbody > tr > td {\n  text-align: right;\n}\n</style>\n<small>shape: (3, 7)</small><table border=\"1\" class=\"dataframe\"><thead><tr><th>Date</th><th>Open</th><th>High</th><th>Low</th><th>Close</th><th>Adj Close</th><th>Volume</th></tr><tr><td>date</td><td>f64</td><td>f64</td><td>f64</td><td>f64</td><td>f64</td><td>i64</td></tr></thead><tbody><tr><td>1980-12-12</td><td>0.128348</td><td>0.128906</td><td>0.128348</td><td>0.128348</td><td>0.100178</td><td>469033600</td></tr><tr><td>1980-12-15</td><td>0.12221</td><td>0.12221</td><td>0.121652</td><td>0.121652</td><td>0.094952</td><td>175884800</td></tr><tr><td>1980-12-16</td><td>0.113281</td><td>0.113281</td><td>0.112723</td><td>0.112723</td><td>0.087983</td><td>105728000</td></tr></tbody></table></div>"
     },
     "execution_count": 8,
     "metadata": {},
     "output_type": "execute_result"
    }
   ],
   "source": [
    "# this tells polars to read the n_rows into memory in case we want to read a subset of lazyframe\n",
    "df_lazy.fetch(3)"
   ],
   "metadata": {
    "collapsed": false,
    "ExecuteTime": {
     "start_time": "2023-04-06T09:09:19.552167Z",
     "end_time": "2023-04-06T09:09:19.722682Z"
    }
   }
  },
  {
   "cell_type": "code",
   "execution_count": 9,
   "outputs": [
    {
     "data": {
      "text/plain": "shape: (4, 7)\n┌────────────┬──────────┬──────────┬──────────┬──────────┬───────────┬───────────┐\n│ Date       ┆ Open     ┆ High     ┆ Low      ┆ Close    ┆ Adj Close ┆ Volume    │\n│ ---        ┆ ---      ┆ ---      ┆ ---      ┆ ---      ┆ ---       ┆ ---       │\n│ date       ┆ f64      ┆ f64      ┆ f64      ┆ f64      ┆ f64       ┆ i64       │\n╞════════════╪══════════╪══════════╪══════════╪══════════╪═══════════╪═══════════╡\n│ 1980-12-12 ┆ 0.128348 ┆ 0.128906 ┆ 0.128348 ┆ 0.128348 ┆ 0.100178  ┆ 469033600 │\n│ 1980-12-15 ┆ 0.12221  ┆ 0.12221  ┆ 0.121652 ┆ 0.121652 ┆ 0.094952  ┆ 175884800 │\n│ 1980-12-16 ┆ 0.113281 ┆ 0.113281 ┆ 0.112723 ┆ 0.112723 ┆ 0.087983  ┆ 105728000 │\n│ 1980-12-17 ┆ 0.115513 ┆ 0.116071 ┆ 0.115513 ┆ 0.115513 ┆ 0.09016   ┆ 86441600  │\n└────────────┴──────────┴──────────┴──────────┴──────────┴───────────┴───────────┘",
      "text/html": "<div><style>\n.dataframe > thead > tr > th,\n.dataframe > tbody > tr > td {\n  text-align: right;\n}\n</style>\n<small>shape: (4, 7)</small><table border=\"1\" class=\"dataframe\"><thead><tr><th>Date</th><th>Open</th><th>High</th><th>Low</th><th>Close</th><th>Adj Close</th><th>Volume</th></tr><tr><td>date</td><td>f64</td><td>f64</td><td>f64</td><td>f64</td><td>f64</td><td>i64</td></tr></thead><tbody><tr><td>1980-12-12</td><td>0.128348</td><td>0.128906</td><td>0.128348</td><td>0.128348</td><td>0.100178</td><td>469033600</td></tr><tr><td>1980-12-15</td><td>0.12221</td><td>0.12221</td><td>0.121652</td><td>0.121652</td><td>0.094952</td><td>175884800</td></tr><tr><td>1980-12-16</td><td>0.113281</td><td>0.113281</td><td>0.112723</td><td>0.112723</td><td>0.087983</td><td>105728000</td></tr><tr><td>1980-12-17</td><td>0.115513</td><td>0.116071</td><td>0.115513</td><td>0.115513</td><td>0.09016</td><td>86441600</td></tr></tbody></table></div>"
     },
     "execution_count": 9,
     "metadata": {},
     "output_type": "execute_result"
    }
   ],
   "source": [
    "# to read the entire csv file into memory\n",
    "df_lazy.collect().head(4)"
   ],
   "metadata": {
    "collapsed": false,
    "ExecuteTime": {
     "start_time": "2023-04-06T09:09:19.572172Z",
     "end_time": "2023-04-06T09:09:19.723710Z"
    }
   }
  },
  {
   "cell_type": "markdown",
   "source": [
    "**In this lazy mode polars has built in query optimization to reduce the amount of data read into memory**"
   ],
   "metadata": {
    "collapsed": false
   }
  },
  {
   "cell_type": "markdown",
   "source": [
    "**Selecting columns**"
   ],
   "metadata": {
    "collapsed": false
   }
  },
  {
   "cell_type": "code",
   "execution_count": 10,
   "outputs": [
    {
     "name": "stdout",
     "output_type": "stream",
     "text": [
      "FAST_PROJECT: [Date, Open]\n",
      "\n",
      "    CSV SCAN src/Apple.csv\n",
      "    PROJECT 2/7 COLUMNS\n"
     ]
    }
   ],
   "source": [
    "df_lazy = pl.scan_csv(\"src/Apple.csv\", try_parse_dates=True).select(\n",
    "    pl.col([\"Date\", \"Open\"])\n",
    ")\n",
    "print(df_lazy.describe_optimized_plan())\n",
    "# it only reads the needed 2 columns into memory"
   ],
   "metadata": {
    "collapsed": false,
    "ExecuteTime": {
     "start_time": "2023-04-06T09:09:19.589401Z",
     "end_time": "2023-04-06T09:09:19.724712Z"
    }
   }
  },
  {
   "cell_type": "code",
   "execution_count": 11,
   "outputs": [
    {
     "name": "stdout",
     "output_type": "stream",
     "text": [
      " SELECT [col(\"Date\"), col(\"Open\")] FROM\n",
      "\n",
      "    CSV SCAN src/Apple.csv\n",
      "    PROJECT */7 COLUMNS\n"
     ]
    },
    {
     "name": "stderr",
     "output_type": "stream",
     "text": [
      "/tmp/ipykernel_143/126064384.py:1: DeprecationWarning: `LazyFrame.describe_plan` has been deprecated; Please use `LazyFrame.explain` instead\n",
      "  print(df_lazy.describe_plan())\n"
     ]
    }
   ],
   "source": [
    "print(df_lazy.describe_plan())"
   ],
   "metadata": {
    "collapsed": false,
    "ExecuteTime": {
     "start_time": "2023-04-06T09:09:19.605674Z",
     "end_time": "2023-04-06T09:09:19.725712Z"
    }
   }
  },
  {
   "cell_type": "code",
   "execution_count": 12,
   "outputs": [
    {
     "name": "stdout",
     "output_type": "stream",
     "text": [
      "AGGREGATE\n",
      "\t[col(\"Close\").mean()] BY [col(\"Date\")] FROM\n",
      "\t\n",
      "  CSV SCAN src/Apple.csv\n",
      "  PROJECT 2/7 COLUMNS\n"
     ]
    }
   ],
   "source": [
    "scanned_df = (\n",
    "    pl.scan_csv(\"src/Apple.csv\", try_parse_dates=True)\n",
    "    .groupby([\"Date\"])\n",
    "    .agg(pl.col(\"Close\").mean())\n",
    ")\n",
    "print(scanned_df.describe_optimized_plan())"
   ],
   "metadata": {
    "collapsed": false,
    "ExecuteTime": {
     "start_time": "2023-04-06T09:09:19.615816Z",
     "end_time": "2023-04-06T09:09:19.726712Z"
    }
   }
  },
  {
   "cell_type": "code",
   "execution_count": 13,
   "outputs": [
    {
     "name": "stdout",
     "output_type": "stream",
     "text": [
      "AGGREGATE\n",
      "\t[col(\"Close\").mean()] BY [col(\"Date\")] FROM\n",
      "\t\n",
      "  CSV SCAN src/Apple.csv\n",
      "  PROJECT */7 COLUMNS\n"
     ]
    },
    {
     "name": "stderr",
     "output_type": "stream",
     "text": [
      "/tmp/ipykernel_143/3179645185.py:1: DeprecationWarning: `LazyFrame.describe_plan` has been deprecated; Please use `LazyFrame.explain` instead\n",
      "  print(scanned_df.describe_plan())\n"
     ]
    }
   ],
   "source": [
    "print(scanned_df.describe_plan())"
   ],
   "metadata": {
    "collapsed": false,
    "ExecuteTime": {
     "start_time": "2023-04-06T09:09:19.629800Z",
     "end_time": "2023-04-06T09:09:19.740972Z"
    }
   }
  },
  {
   "cell_type": "markdown",
   "source": [
    "**It's faster than pandas**"
   ],
   "metadata": {
    "collapsed": false
   }
  },
  {
   "cell_type": "code",
   "execution_count": 22,
   "outputs": [],
   "source": [
    "pd_df = pd.read_csv(\"src/Apple.csv\").query('Date<\"1980-12-16)\"')"
   ],
   "metadata": {
    "collapsed": false,
    "ExecuteTime": {
     "start_time": "2023-04-06T09:12:03.331208Z",
     "end_time": "2023-04-06T09:12:03.490300Z"
    }
   }
  },
  {
   "cell_type": "code",
   "execution_count": 23,
   "outputs": [],
   "source": [
    "pl_df = pl.scan_csv(\"src/Apple.csv\").filter(pl.col(\"Date\") < datetime(1980, 12, 16))"
   ],
   "metadata": {
    "collapsed": false,
    "ExecuteTime": {
     "start_time": "2023-04-06T09:12:06.438265Z",
     "end_time": "2023-04-06T09:12:06.534354Z"
    }
   }
  },
  {
   "cell_type": "code",
   "execution_count": 24,
   "outputs": [
    {
     "data": {
      "text/plain": "shape: (3, 7)\n┌────────────┬──────────┬──────────┬──────────┬──────────┬───────────┬───────────┐\n│ Date       ┆ Open     ┆ High     ┆ Low      ┆ Close    ┆ Adj Close ┆ Volume    │\n│ ---        ┆ ---      ┆ ---      ┆ ---      ┆ ---      ┆ ---       ┆ ---       │\n│ str        ┆ f64      ┆ f64      ┆ f64      ┆ f64      ┆ f64       ┆ i64       │\n╞════════════╪══════════╪══════════╪══════════╪══════════╪═══════════╪═══════════╡\n│ 1980-12-12 ┆ 0.128348 ┆ 0.128906 ┆ 0.128348 ┆ 0.128348 ┆ 0.100178  ┆ 469033600 │\n│ 1980-12-15 ┆ 0.12221  ┆ 0.12221  ┆ 0.121652 ┆ 0.121652 ┆ 0.094952  ┆ 175884800 │\n│ 1980-12-16 ┆ 0.113281 ┆ 0.113281 ┆ 0.112723 ┆ 0.112723 ┆ 0.087983  ┆ 105728000 │\n└────────────┴──────────┴──────────┴──────────┴──────────┴───────────┴───────────┘",
      "text/html": "<div><style>\n.dataframe > thead > tr > th,\n.dataframe > tbody > tr > td {\n  text-align: right;\n}\n</style>\n<small>shape: (3, 7)</small><table border=\"1\" class=\"dataframe\"><thead><tr><th>Date</th><th>Open</th><th>High</th><th>Low</th><th>Close</th><th>Adj Close</th><th>Volume</th></tr><tr><td>str</td><td>f64</td><td>f64</td><td>f64</td><td>f64</td><td>f64</td><td>i64</td></tr></thead><tbody><tr><td>&quot;1980-12-12&quot;</td><td>0.128348</td><td>0.128906</td><td>0.128348</td><td>0.128348</td><td>0.100178</td><td>469033600</td></tr><tr><td>&quot;1980-12-15&quot;</td><td>0.12221</td><td>0.12221</td><td>0.121652</td><td>0.121652</td><td>0.094952</td><td>175884800</td></tr><tr><td>&quot;1980-12-16&quot;</td><td>0.113281</td><td>0.113281</td><td>0.112723</td><td>0.112723</td><td>0.087983</td><td>105728000</td></tr></tbody></table></div>"
     },
     "execution_count": 24,
     "metadata": {},
     "output_type": "execute_result"
    }
   ],
   "source": [
    "pl.scan_csv(\"src/Apple.csv\").filter(pl.col(\"Date\") < datetime(1980, 12, 16)).collect()"
   ],
   "metadata": {
    "collapsed": false,
    "ExecuteTime": {
     "start_time": "2023-04-06T09:12:15.292316Z",
     "end_time": "2023-04-06T09:12:15.317232Z"
    }
   }
  },
  {
   "cell_type": "code",
   "execution_count": 25,
   "outputs": [
    {
     "data": {
      "text/plain": "         Date      Open      High       Low     Close  Adj Close     Volume\n0  1980-12-12  0.128348  0.128906  0.128348  0.128348   0.100178  469033600\n1  1980-12-15  0.122210  0.122210  0.121652  0.121652   0.094952  175884800\n2  1980-12-16  0.113281  0.113281  0.112723  0.112723   0.087983  105728000",
      "text/html": "<div>\n<style scoped>\n    .dataframe tbody tr th:only-of-type {\n        vertical-align: middle;\n    }\n\n    .dataframe tbody tr th {\n        vertical-align: top;\n    }\n\n    .dataframe thead th {\n        text-align: right;\n    }\n</style>\n<table border=\"1\" class=\"dataframe\">\n  <thead>\n    <tr style=\"text-align: right;\">\n      <th></th>\n      <th>Date</th>\n      <th>Open</th>\n      <th>High</th>\n      <th>Low</th>\n      <th>Close</th>\n      <th>Adj Close</th>\n      <th>Volume</th>\n    </tr>\n  </thead>\n  <tbody>\n    <tr>\n      <th>0</th>\n      <td>1980-12-12</td>\n      <td>0.128348</td>\n      <td>0.128906</td>\n      <td>0.128348</td>\n      <td>0.128348</td>\n      <td>0.100178</td>\n      <td>469033600</td>\n    </tr>\n    <tr>\n      <th>1</th>\n      <td>1980-12-15</td>\n      <td>0.122210</td>\n      <td>0.122210</td>\n      <td>0.121652</td>\n      <td>0.121652</td>\n      <td>0.094952</td>\n      <td>175884800</td>\n    </tr>\n    <tr>\n      <th>2</th>\n      <td>1980-12-16</td>\n      <td>0.113281</td>\n      <td>0.113281</td>\n      <td>0.112723</td>\n      <td>0.112723</td>\n      <td>0.087983</td>\n      <td>105728000</td>\n    </tr>\n  </tbody>\n</table>\n</div>"
     },
     "execution_count": 25,
     "metadata": {},
     "output_type": "execute_result"
    }
   ],
   "source": [
    "pd_df"
   ],
   "metadata": {
    "collapsed": false,
    "ExecuteTime": {
     "start_time": "2023-04-06T09:12:22.332192Z",
     "end_time": "2023-04-06T09:12:22.347711Z"
    }
   }
  },
  {
   "cell_type": "code",
   "execution_count": 17,
   "outputs": [],
   "source": [],
   "metadata": {
    "collapsed": false,
    "ExecuteTime": {
     "start_time": "2023-04-06T09:09:19.763918Z",
     "end_time": "2023-04-06T09:09:19.987715Z"
    }
   }
  }
 ],
 "metadata": {
  "kernelspec": {
   "display_name": "Python 3",
   "language": "python",
   "name": "python3"
  },
  "language_info": {
   "codemirror_mode": {
    "name": "ipython",
    "version": 2
   },
   "file_extension": ".py",
   "mimetype": "text/x-python",
   "name": "python",
   "nbconvert_exporter": "python",
   "pygments_lexer": "ipython2",
   "version": "2.7.6"
  }
 },
 "nbformat": 4,
 "nbformat_minor": 0
}
