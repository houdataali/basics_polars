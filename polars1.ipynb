{
 "cells": [
  {
   "cell_type": "markdown",
   "source": [
    "**Loading data from a csv file**"
   ],
   "metadata": {
    "collapsed": false
   }
  },
  {
   "cell_type": "code",
   "execution_count": 60,
   "outputs": [],
   "source": [
    "# imports\n",
    "import pandas as pd\n",
    "import polars as pl\n",
    "from datetime import datetime"
   ],
   "metadata": {
    "collapsed": false,
    "ExecuteTime": {
     "start_time": "2023-04-04T16:11:54.410927Z",
     "end_time": "2023-04-04T16:11:54.439783Z"
    }
   }
  },
  {
   "cell_type": "markdown",
   "source": [
    "**Eager Csv reading with read_csv**"
   ],
   "metadata": {
    "collapsed": false
   }
  },
  {
   "cell_type": "code",
   "execution_count": 32,
   "outputs": [
    {
     "data": {
      "text/plain": "shape: (3, 7)\n┌────────────┬──────────┬──────────┬──────────┬──────────┬───────────┬───────────┐\n│ Date       ┆ Open     ┆ High     ┆ Low      ┆ Close    ┆ Adj Close ┆ Volume    │\n│ ---        ┆ ---      ┆ ---      ┆ ---      ┆ ---      ┆ ---       ┆ ---       │\n│ str        ┆ f64      ┆ f64      ┆ f64      ┆ f64      ┆ f64       ┆ i64       │\n╞════════════╪══════════╪══════════╪══════════╪══════════╪═══════════╪═══════════╡\n│ 1980-12-12 ┆ 0.128348 ┆ 0.128906 ┆ 0.128348 ┆ 0.128348 ┆ 0.100178  ┆ 469033600 │\n│ 1980-12-15 ┆ 0.12221  ┆ 0.12221  ┆ 0.121652 ┆ 0.121652 ┆ 0.094952  ┆ 175884800 │\n│ 1980-12-16 ┆ 0.113281 ┆ 0.113281 ┆ 0.112723 ┆ 0.112723 ┆ 0.087983  ┆ 105728000 │\n└────────────┴──────────┴──────────┴──────────┴──────────┴───────────┴───────────┘",
      "text/html": "<div><style>\n.dataframe > thead > tr > th,\n.dataframe > tbody > tr > td {\n  text-align: right;\n}\n</style>\n<small>shape: (3, 7)</small><table border=\"1\" class=\"dataframe\"><thead><tr><th>Date</th><th>Open</th><th>High</th><th>Low</th><th>Close</th><th>Adj Close</th><th>Volume</th></tr><tr><td>str</td><td>f64</td><td>f64</td><td>f64</td><td>f64</td><td>f64</td><td>i64</td></tr></thead><tbody><tr><td>&quot;1980-12-12&quot;</td><td>0.128348</td><td>0.128906</td><td>0.128348</td><td>0.128348</td><td>0.100178</td><td>469033600</td></tr><tr><td>&quot;1980-12-15&quot;</td><td>0.12221</td><td>0.12221</td><td>0.121652</td><td>0.121652</td><td>0.094952</td><td>175884800</td></tr><tr><td>&quot;1980-12-16&quot;</td><td>0.113281</td><td>0.113281</td><td>0.112723</td><td>0.112723</td><td>0.087983</td><td>105728000</td></tr></tbody></table></div>"
     },
     "execution_count": 32,
     "metadata": {},
     "output_type": "execute_result"
    }
   ],
   "source": [
    "df = pl.read_csv(\"src/Apple.csv\")\n",
    "df.head(3)"
   ],
   "metadata": {
    "collapsed": false,
    "ExecuteTime": {
     "start_time": "2023-04-04T15:25:54.411096Z",
     "end_time": "2023-04-04T15:25:54.491318Z"
    }
   }
  },
  {
   "cell_type": "code",
   "execution_count": 33,
   "outputs": [
    {
     "data": {
      "text/plain": "shape: (3, 7)\n┌────────────┬──────────┬──────────┬──────────┬──────────┬───────────┬───────────┐\n│ Date       ┆ Open     ┆ High     ┆ Low      ┆ Close    ┆ Adj Close ┆ Volume    │\n│ ---        ┆ ---      ┆ ---      ┆ ---      ┆ ---      ┆ ---       ┆ ---       │\n│ date       ┆ f64      ┆ f64      ┆ f64      ┆ f64      ┆ f64       ┆ i64       │\n╞════════════╪══════════╪══════════╪══════════╪══════════╪═══════════╪═══════════╡\n│ 1980-12-12 ┆ 0.128348 ┆ 0.128906 ┆ 0.128348 ┆ 0.128348 ┆ 0.100178  ┆ 469033600 │\n│ 1980-12-15 ┆ 0.12221  ┆ 0.12221  ┆ 0.121652 ┆ 0.121652 ┆ 0.094952  ┆ 175884800 │\n│ 1980-12-16 ┆ 0.113281 ┆ 0.113281 ┆ 0.112723 ┆ 0.112723 ┆ 0.087983  ┆ 105728000 │\n└────────────┴──────────┴──────────┴──────────┴──────────┴───────────┴───────────┘",
      "text/html": "<div><style>\n.dataframe > thead > tr > th,\n.dataframe > tbody > tr > td {\n  text-align: right;\n}\n</style>\n<small>shape: (3, 7)</small><table border=\"1\" class=\"dataframe\"><thead><tr><th>Date</th><th>Open</th><th>High</th><th>Low</th><th>Close</th><th>Adj Close</th><th>Volume</th></tr><tr><td>date</td><td>f64</td><td>f64</td><td>f64</td><td>f64</td><td>f64</td><td>i64</td></tr></thead><tbody><tr><td>1980-12-12</td><td>0.128348</td><td>0.128906</td><td>0.128348</td><td>0.128348</td><td>0.100178</td><td>469033600</td></tr><tr><td>1980-12-15</td><td>0.12221</td><td>0.12221</td><td>0.121652</td><td>0.121652</td><td>0.094952</td><td>175884800</td></tr><tr><td>1980-12-16</td><td>0.113281</td><td>0.113281</td><td>0.112723</td><td>0.112723</td><td>0.087983</td><td>105728000</td></tr></tbody></table></div>"
     },
     "execution_count": 33,
     "metadata": {},
     "output_type": "execute_result"
    }
   ],
   "source": [
    "# parse dates during csv reading\n",
    "df = pl.read_csv(\"src/Apple.csv\", try_parse_dates=True)\n",
    "df.head(3)"
   ],
   "metadata": {
    "collapsed": false,
    "ExecuteTime": {
     "start_time": "2023-04-04T15:26:17.212755Z",
     "end_time": "2023-04-04T15:26:17.304086Z"
    }
   }
  },
  {
   "cell_type": "markdown",
   "source": [
    "**lazy csv reading with scan_csv**"
   ],
   "metadata": {
    "collapsed": false
   }
  },
  {
   "cell_type": "code",
   "execution_count": 42,
   "outputs": [
    {
     "data": {
      "text/plain": "<polars.LazyFrame object at 0x7F29E32E2F70>",
      "text/html": "<i>naive plan: (run <b>LazyFrame.explain(optimized=True)</b> to see the optimized plan)</i>\n    <p></p>\n    <div><p></p>  CSV SCAN src/Apple.csv<p></p>  PROJECT */7 COLUMNS</div>"
     },
     "execution_count": 42,
     "metadata": {},
     "output_type": "execute_result"
    }
   ],
   "source": [
    "df_lazy = pl.scan_csv(\"src/Apple.csv\")\n",
    "df_lazy"
   ],
   "metadata": {
    "collapsed": false,
    "ExecuteTime": {
     "start_time": "2023-04-04T15:31:48.661877Z",
     "end_time": "2023-04-04T15:31:48.777982Z"
    }
   }
  },
  {
   "cell_type": "code",
   "execution_count": 43,
   "outputs": [
    {
     "data": {
      "text/plain": "polars.lazyframe.frame.LazyFrame"
     },
     "execution_count": 43,
     "metadata": {},
     "output_type": "execute_result"
    }
   ],
   "source": [
    "type(df_lazy)"
   ],
   "metadata": {
    "collapsed": false,
    "ExecuteTime": {
     "start_time": "2023-04-04T15:33:59.637224Z",
     "end_time": "2023-04-04T15:33:59.684903Z"
    }
   }
  },
  {
   "cell_type": "code",
   "execution_count": 44,
   "outputs": [
    {
     "data": {
      "text/plain": "['Date', 'Open', 'High', 'Low', 'Close', 'Adj Close', 'Volume']"
     },
     "execution_count": 44,
     "metadata": {},
     "output_type": "execute_result"
    }
   ],
   "source": [
    "df_lazy.columns"
   ],
   "metadata": {
    "collapsed": false,
    "ExecuteTime": {
     "start_time": "2023-04-04T15:35:19.709088Z",
     "end_time": "2023-04-04T15:35:19.718576Z"
    }
   }
  },
  {
   "cell_type": "code",
   "execution_count": 45,
   "outputs": [],
   "source": [
    "df_lazy = pl.scan_csv(\"src/Apple.csv\", try_parse_dates=True)"
   ],
   "metadata": {
    "collapsed": false,
    "ExecuteTime": {
     "start_time": "2023-04-04T15:36:11.915931Z",
     "end_time": "2023-04-04T15:36:11.961565Z"
    }
   }
  },
  {
   "cell_type": "code",
   "execution_count": 46,
   "outputs": [
    {
     "data": {
      "text/plain": "shape: (3, 7)\n┌────────────┬──────────┬──────────┬──────────┬──────────┬───────────┬───────────┐\n│ Date       ┆ Open     ┆ High     ┆ Low      ┆ Close    ┆ Adj Close ┆ Volume    │\n│ ---        ┆ ---      ┆ ---      ┆ ---      ┆ ---      ┆ ---       ┆ ---       │\n│ date       ┆ f64      ┆ f64      ┆ f64      ┆ f64      ┆ f64       ┆ i64       │\n╞════════════╪══════════╪══════════╪══════════╪══════════╪═══════════╪═══════════╡\n│ 1980-12-12 ┆ 0.128348 ┆ 0.128906 ┆ 0.128348 ┆ 0.128348 ┆ 0.100178  ┆ 469033600 │\n│ 1980-12-15 ┆ 0.12221  ┆ 0.12221  ┆ 0.121652 ┆ 0.121652 ┆ 0.094952  ┆ 175884800 │\n│ 1980-12-16 ┆ 0.113281 ┆ 0.113281 ┆ 0.112723 ┆ 0.112723 ┆ 0.087983  ┆ 105728000 │\n└────────────┴──────────┴──────────┴──────────┴──────────┴───────────┴───────────┘",
      "text/html": "<div><style>\n.dataframe > thead > tr > th,\n.dataframe > tbody > tr > td {\n  text-align: right;\n}\n</style>\n<small>shape: (3, 7)</small><table border=\"1\" class=\"dataframe\"><thead><tr><th>Date</th><th>Open</th><th>High</th><th>Low</th><th>Close</th><th>Adj Close</th><th>Volume</th></tr><tr><td>date</td><td>f64</td><td>f64</td><td>f64</td><td>f64</td><td>f64</td><td>i64</td></tr></thead><tbody><tr><td>1980-12-12</td><td>0.128348</td><td>0.128906</td><td>0.128348</td><td>0.128348</td><td>0.100178</td><td>469033600</td></tr><tr><td>1980-12-15</td><td>0.12221</td><td>0.12221</td><td>0.121652</td><td>0.121652</td><td>0.094952</td><td>175884800</td></tr><tr><td>1980-12-16</td><td>0.113281</td><td>0.113281</td><td>0.112723</td><td>0.112723</td><td>0.087983</td><td>105728000</td></tr></tbody></table></div>"
     },
     "execution_count": 46,
     "metadata": {},
     "output_type": "execute_result"
    }
   ],
   "source": [
    "# this tells polars to read the n_rows into memory in case we want to read a subset of lazyframe\n",
    "df_lazy.fetch(3)"
   ],
   "metadata": {
    "collapsed": false,
    "ExecuteTime": {
     "start_time": "2023-04-04T15:38:14.180984Z",
     "end_time": "2023-04-04T15:38:14.241966Z"
    }
   }
  },
  {
   "cell_type": "code",
   "execution_count": 47,
   "outputs": [
    {
     "data": {
      "text/plain": "shape: (4, 7)\n┌────────────┬──────────┬──────────┬──────────┬──────────┬───────────┬───────────┐\n│ Date       ┆ Open     ┆ High     ┆ Low      ┆ Close    ┆ Adj Close ┆ Volume    │\n│ ---        ┆ ---      ┆ ---      ┆ ---      ┆ ---      ┆ ---       ┆ ---       │\n│ date       ┆ f64      ┆ f64      ┆ f64      ┆ f64      ┆ f64       ┆ i64       │\n╞════════════╪══════════╪══════════╪══════════╪══════════╪═══════════╪═══════════╡\n│ 1980-12-12 ┆ 0.128348 ┆ 0.128906 ┆ 0.128348 ┆ 0.128348 ┆ 0.100178  ┆ 469033600 │\n│ 1980-12-15 ┆ 0.12221  ┆ 0.12221  ┆ 0.121652 ┆ 0.121652 ┆ 0.094952  ┆ 175884800 │\n│ 1980-12-16 ┆ 0.113281 ┆ 0.113281 ┆ 0.112723 ┆ 0.112723 ┆ 0.087983  ┆ 105728000 │\n│ 1980-12-17 ┆ 0.115513 ┆ 0.116071 ┆ 0.115513 ┆ 0.115513 ┆ 0.09016   ┆ 86441600  │\n└────────────┴──────────┴──────────┴──────────┴──────────┴───────────┴───────────┘",
      "text/html": "<div><style>\n.dataframe > thead > tr > th,\n.dataframe > tbody > tr > td {\n  text-align: right;\n}\n</style>\n<small>shape: (4, 7)</small><table border=\"1\" class=\"dataframe\"><thead><tr><th>Date</th><th>Open</th><th>High</th><th>Low</th><th>Close</th><th>Adj Close</th><th>Volume</th></tr><tr><td>date</td><td>f64</td><td>f64</td><td>f64</td><td>f64</td><td>f64</td><td>i64</td></tr></thead><tbody><tr><td>1980-12-12</td><td>0.128348</td><td>0.128906</td><td>0.128348</td><td>0.128348</td><td>0.100178</td><td>469033600</td></tr><tr><td>1980-12-15</td><td>0.12221</td><td>0.12221</td><td>0.121652</td><td>0.121652</td><td>0.094952</td><td>175884800</td></tr><tr><td>1980-12-16</td><td>0.113281</td><td>0.113281</td><td>0.112723</td><td>0.112723</td><td>0.087983</td><td>105728000</td></tr><tr><td>1980-12-17</td><td>0.115513</td><td>0.116071</td><td>0.115513</td><td>0.115513</td><td>0.09016</td><td>86441600</td></tr></tbody></table></div>"
     },
     "execution_count": 47,
     "metadata": {},
     "output_type": "execute_result"
    }
   ],
   "source": [
    "# to read the entire csv file into memory\n",
    "df_lazy.collect().head(4)"
   ],
   "metadata": {
    "collapsed": false,
    "ExecuteTime": {
     "start_time": "2023-04-04T15:40:35.352241Z",
     "end_time": "2023-04-04T15:40:35.442480Z"
    }
   }
  },
  {
   "cell_type": "markdown",
   "source": [
    "**In this lazy mode polars has built in query optimization to reduce the amount of data read into memory**"
   ],
   "metadata": {
    "collapsed": false
   }
  },
  {
   "cell_type": "markdown",
   "source": [
    "**Selecting columns**"
   ],
   "metadata": {
    "collapsed": false
   }
  },
  {
   "cell_type": "code",
   "execution_count": 49,
   "outputs": [
    {
     "name": "stdout",
     "output_type": "stream",
     "text": [
      "FAST_PROJECT: [Date, Open]\n",
      "\n",
      "    CSV SCAN src/Apple.csv\n",
      "    PROJECT 2/7 COLUMNS\n"
     ]
    }
   ],
   "source": [
    "df_lazy = pl.scan_csv(\"src/Apple.csv\", try_parse_dates=True).select(\n",
    "    pl.col([\"Date\", \"Open\"])\n",
    ")\n",
    "print(df_lazy.describe_optimized_plan())\n",
    "# it only reads the needed 2 columns into memory"
   ],
   "metadata": {
    "collapsed": false,
    "ExecuteTime": {
     "start_time": "2023-04-04T15:49:33.896297Z",
     "end_time": "2023-04-04T15:49:33.999575Z"
    }
   }
  },
  {
   "cell_type": "code",
   "execution_count": 50,
   "outputs": [
    {
     "name": "stdout",
     "output_type": "stream",
     "text": [
      " SELECT [col(\"Date\"), col(\"Open\")] FROM\n",
      "\n",
      "    CSV SCAN src/Apple.csv\n",
      "    PROJECT */7 COLUMNS\n"
     ]
    },
    {
     "name": "stderr",
     "output_type": "stream",
     "text": [
      "/tmp/ipykernel_174/1585546533.py:1: DeprecationWarning: `LazyFrame.describe_plan` has been deprecated; Please use `LazyFrame.explain` instead\n",
      "  print(df_lazy.describe_plan())\n"
     ]
    }
   ],
   "source": [
    "print(df_lazy.describe_plan())"
   ],
   "metadata": {
    "collapsed": false,
    "ExecuteTime": {
     "start_time": "2023-04-04T15:50:01.598370Z",
     "end_time": "2023-04-04T15:50:01.660152Z"
    }
   }
  },
  {
   "cell_type": "code",
   "execution_count": 55,
   "outputs": [
    {
     "name": "stdout",
     "output_type": "stream",
     "text": [
      "AGGREGATE\n",
      "\t[col(\"Close\").mean()] BY [col(\"Date\")] FROM\n",
      "\t\n",
      "  CSV SCAN src/Apple.csv\n",
      "  PROJECT 2/7 COLUMNS\n"
     ]
    }
   ],
   "source": [
    "scanned_df = (\n",
    "    pl.scan_csv(\"src/Apple.csv\", try_parse_dates=True)\n",
    "    .groupby([\"Date\"])\n",
    "    .agg(pl.col(\"Close\").mean())\n",
    ")\n",
    "print(scanned_df.describe_optimized_plan())"
   ],
   "metadata": {
    "collapsed": false,
    "ExecuteTime": {
     "start_time": "2023-04-04T16:03:01.584405Z",
     "end_time": "2023-04-04T16:03:01.613687Z"
    }
   }
  },
  {
   "cell_type": "code",
   "execution_count": 56,
   "outputs": [
    {
     "name": "stdout",
     "output_type": "stream",
     "text": [
      "AGGREGATE\n",
      "\t[col(\"Close\").mean()] BY [col(\"Date\")] FROM\n",
      "\t\n",
      "  CSV SCAN src/Apple.csv\n",
      "  PROJECT */7 COLUMNS\n"
     ]
    },
    {
     "name": "stderr",
     "output_type": "stream",
     "text": [
      "/tmp/ipykernel_174/533309120.py:1: DeprecationWarning: `LazyFrame.describe_plan` has been deprecated; Please use `LazyFrame.explain` instead\n",
      "  print(scanned_df.describe_plan())\n"
     ]
    }
   ],
   "source": [
    "print(scanned_df.describe_plan())"
   ],
   "metadata": {
    "collapsed": false,
    "ExecuteTime": {
     "start_time": "2023-04-04T16:04:04.517047Z",
     "end_time": "2023-04-04T16:04:04.572943Z"
    }
   }
  },
  {
   "cell_type": "markdown",
   "source": [
    "**It's faster than pandas**"
   ],
   "metadata": {
    "collapsed": false
   }
  },
  {
   "cell_type": "code",
   "execution_count": 66,
   "outputs": [],
   "source": [
    "pd_df = pd.read_csv(\"src/Apple.csv\").query('Date<\"1980-12-16)\"')"
   ],
   "metadata": {
    "collapsed": false,
    "ExecuteTime": {
     "start_time": "2023-04-04T16:24:50.645744Z",
     "end_time": "2023-04-04T16:24:50.677898Z"
    }
   }
  },
  {
   "cell_type": "code",
   "execution_count": 67,
   "outputs": [],
   "source": [
    "pl_df = pl.scan_csv(\"src/Apple.csv\").filter(pl.col(\"Date\") < datetime(1980, 12, 16))"
   ],
   "metadata": {
    "collapsed": false,
    "ExecuteTime": {
     "start_time": "2023-04-04T16:24:53.780805Z",
     "end_time": "2023-04-04T16:24:53.799254Z"
    }
   }
  },
  {
   "cell_type": "code",
   "execution_count": null,
   "outputs": [],
   "source": [],
   "metadata": {
    "collapsed": false
   }
  }
 ],
 "metadata": {
  "kernelspec": {
   "display_name": "Python 3",
   "language": "python",
   "name": "python3"
  },
  "language_info": {
   "codemirror_mode": {
    "name": "ipython",
    "version": 2
   },
   "file_extension": ".py",
   "mimetype": "text/x-python",
   "name": "python",
   "nbconvert_exporter": "python",
   "pygments_lexer": "ipython2",
   "version": "2.7.6"
  }
 },
 "nbformat": 4,
 "nbformat_minor": 0
}
