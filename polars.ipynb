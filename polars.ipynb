{
 "cells": [
  {
   "cell_type": "code",
   "execution_count": 2,
   "metadata": {
    "collapsed": true,
    "ExecuteTime": {
     "start_time": "2023-04-04T11:51:16.327211Z",
     "end_time": "2023-04-04T11:51:17.015707Z"
    }
   },
   "outputs": [],
   "source": [
    "import polars as pl\n",
    "from datetime import datetime,timedelta\n",
    "import numpy as np"
   ]
  },
  {
   "cell_type": "code",
   "execution_count": 3,
   "outputs": [
    {
     "name": "stdout",
     "output_type": "stream",
     "text": [
      "3\n"
     ]
    }
   ],
   "source": [
    "#create serie\n",
    "s=pl.Series(\"a\",[1,2,3,4,5])\n",
    "print(s[2])"
   ],
   "metadata": {
    "collapsed": false,
    "ExecuteTime": {
     "start_time": "2023-04-04T11:51:16.987988Z",
     "end_time": "2023-04-04T11:51:17.035685Z"
    }
   }
  },
  {
   "cell_type": "code",
   "execution_count": 4,
   "outputs": [
    {
     "name": "stdout",
     "output_type": "stream",
     "text": [
      "shape: (3, 2)\n",
      "┌─────────┬─────────────────────┐\n",
      "│ integer ┆ date                │\n",
      "│ ---     ┆ ---                 │\n",
      "│ i64     ┆ datetime[μs]        │\n",
      "╞═════════╪═════════════════════╡\n",
      "│ 1       ┆ 2023-01-01 00:00:00 │\n",
      "│ 2       ┆ 2023-01-02 00:00:00 │\n",
      "│ 3       ┆ 2023-01-03 00:00:00 │\n",
      "└─────────┴─────────────────────┘\n"
     ]
    }
   ],
   "source": [
    "#create dataframe\n",
    "df=pl.DataFrame({\"integer\": [1, 2, 3], \"date\": [(datetime(2023, 1, 1)),(datetime(2023, 1, 2)),(datetime(2023, 1, 3))]})\n",
    "print(df)"
   ],
   "metadata": {
    "collapsed": false,
    "ExecuteTime": {
     "start_time": "2023-04-04T11:51:17.019579Z",
     "end_time": "2023-04-04T11:51:17.038675Z"
    }
   }
  },
  {
   "cell_type": "code",
   "execution_count": 5,
   "outputs": [],
   "source": [
    "#expload it into a csv file\n",
    "df.write_csv('output.csv')"
   ],
   "metadata": {
    "collapsed": false,
    "ExecuteTime": {
     "start_time": "2023-04-04T11:51:17.038675Z",
     "end_time": "2023-04-04T11:51:17.154620Z"
    }
   }
  },
  {
   "cell_type": "code",
   "execution_count": 6,
   "outputs": [
    {
     "name": "stdout",
     "output_type": "stream",
     "text": [
      "shape: (3, 2)\n",
      "┌─────────┬─────────────────────┐\n",
      "│ integer ┆ date                │\n",
      "│ ---     ┆ ---                 │\n",
      "│ i64     ┆ datetime[μs]        │\n",
      "╞═════════╪═════════════════════╡\n",
      "│ 1       ┆ 2023-01-01 00:00:00 │\n",
      "│ 2       ┆ 2023-01-02 00:00:00 │\n",
      "│ 3       ┆ 2023-01-03 00:00:00 │\n",
      "└─────────┴─────────────────────┘\n"
     ]
    }
   ],
   "source": [
    "#read df from csv file\n",
    "#polars made dates as strings so yu can tell it tp parse dates\n",
    "df_csv=pl.read_csv('output.csv',try_parse_dates=True)\n",
    "print(df_csv)"
   ],
   "metadata": {
    "collapsed": false,
    "ExecuteTime": {
     "start_time": "2023-04-04T11:51:17.055735Z",
     "end_time": "2023-04-04T11:51:17.204672Z"
    }
   }
  },
  {
   "cell_type": "code",
   "execution_count": 7,
   "outputs": [
    {
     "name": "stdout",
     "output_type": "stream",
     "text": [
      "shape: (3, 2)\n",
      "┌─────────┬─────────────────────┐\n",
      "│ integer ┆ date                │\n",
      "│ ---     ┆ ---                 │\n",
      "│ i64     ┆ datetime[μs]        │\n",
      "╞═════════╪═════════════════════╡\n",
      "│ 1       ┆ 2023-01-01 00:00:00 │\n",
      "│ 2       ┆ 2023-01-02 00:00:00 │\n",
      "│ 3       ┆ 2023-01-03 00:00:00 │\n",
      "└─────────┴─────────────────────┘\n"
     ]
    }
   ],
   "source": [
    "#write df into json file\n",
    "df.write_json('output.json')\n",
    "#read df from json file\n",
    "df_json=pl.read_json('output.json')\n",
    "print(df_json)"
   ],
   "metadata": {
    "collapsed": false,
    "ExecuteTime": {
     "start_time": "2023-04-04T11:51:17.080118Z",
     "end_time": "2023-04-04T11:51:17.205677Z"
    }
   }
  },
  {
   "cell_type": "code",
   "execution_count": 8,
   "outputs": [
    {
     "name": "stdout",
     "output_type": "stream",
     "text": [
      "shape: (7, 3)\n",
      "┌─────┬─────────────────────┬───────┐\n",
      "│ a   ┆ b                   ┆ c     │\n",
      "│ --- ┆ ---                 ┆ ---   │\n",
      "│ i64 ┆ datetime[μs]        ┆ f64   │\n",
      "╞═════╪═════════════════════╪═══════╡\n",
      "│ 1   ┆ 2022-12-01 00:00:00 ┆ 1.0   │\n",
      "│ 2   ┆ 2022-12-02 00:00:00 ┆ 2.0   │\n",
      "│ 3   ┆ 2022-12-03 00:00:00 ┆ NaN   │\n",
      "│ 4   ┆ 2022-12-04 00:00:00 ┆ NaN   │\n",
      "│ 5   ┆ 2022-12-05 00:00:00 ┆ 0.0   │\n",
      "│ 6   ┆ 2022-12-06 00:00:00 ┆ -42.0 │\n",
      "│ 7   ┆ 2022-12-07 00:00:00 ┆ null  │\n",
      "└─────┴─────────────────────┴───────┘\n"
     ]
    }
   ],
   "source": [
    "df=pl.DataFrame({\"a\":[1,2,3,4,5,6,7],\"b\":[datetime(2022,12,1)+timedelta(days=idx) for idx in range(7)],\"c\":[1, 2.0, np.NaN, np.NaN, 0, -42, None]})\n",
    "print(df)"
   ],
   "metadata": {
    "collapsed": false,
    "ExecuteTime": {
     "start_time": "2023-04-04T11:51:17.095753Z",
     "end_time": "2023-04-04T11:51:17.207023Z"
    }
   }
  },
  {
   "cell_type": "code",
   "execution_count": 9,
   "outputs": [
    {
     "name": "stdout",
     "output_type": "stream",
     "text": [
      "shape: (5, 3)\n",
      "┌─────┬─────────────────────┬─────┐\n",
      "│ a   ┆ b                   ┆ c   │\n",
      "│ --- ┆ ---                 ┆ --- │\n",
      "│ i64 ┆ datetime[μs]        ┆ f64 │\n",
      "╞═════╪═════════════════════╪═════╡\n",
      "│ 1   ┆ 2022-12-01 00:00:00 ┆ 1.0 │\n",
      "│ 2   ┆ 2022-12-02 00:00:00 ┆ 2.0 │\n",
      "│ 3   ┆ 2022-12-03 00:00:00 ┆ NaN │\n",
      "│ 4   ┆ 2022-12-04 00:00:00 ┆ NaN │\n",
      "│ 5   ┆ 2022-12-05 00:00:00 ┆ 0.0 │\n",
      "└─────┴─────────────────────┴─────┘\n"
     ]
    }
   ],
   "source": [
    "print(df.head(5))"
   ],
   "metadata": {
    "collapsed": false,
    "ExecuteTime": {
     "start_time": "2023-04-04T11:51:17.110568Z",
     "end_time": "2023-04-04T11:51:17.239849Z"
    }
   }
  },
  {
   "cell_type": "code",
   "execution_count": 10,
   "outputs": [
    {
     "name": "stdout",
     "output_type": "stream",
     "text": [
      "shape: (5, 3)\n",
      "┌─────┬─────────────────────┬───────┐\n",
      "│ a   ┆ b                   ┆ c     │\n",
      "│ --- ┆ ---                 ┆ ---   │\n",
      "│ i64 ┆ datetime[μs]        ┆ f64   │\n",
      "╞═════╪═════════════════════╪═══════╡\n",
      "│ 3   ┆ 2022-12-03 00:00:00 ┆ NaN   │\n",
      "│ 4   ┆ 2022-12-04 00:00:00 ┆ NaN   │\n",
      "│ 5   ┆ 2022-12-05 00:00:00 ┆ 0.0   │\n",
      "│ 6   ┆ 2022-12-06 00:00:00 ┆ -42.0 │\n",
      "│ 7   ┆ 2022-12-07 00:00:00 ┆ null  │\n",
      "└─────┴─────────────────────┴───────┘\n"
     ]
    }
   ],
   "source": [
    "print(df.tail(5))"
   ],
   "metadata": {
    "collapsed": false,
    "ExecuteTime": {
     "start_time": "2023-04-04T11:51:17.124556Z",
     "end_time": "2023-04-04T11:51:17.241379Z"
    }
   }
  },
  {
   "cell_type": "code",
   "execution_count": 11,
   "outputs": [
    {
     "data": {
      "text/plain": "shape: (3, 3)\n┌─────┬─────────────────────┬───────┐\n│ a   ┆ b                   ┆ c     │\n│ --- ┆ ---                 ┆ ---   │\n│ i64 ┆ datetime[μs]        ┆ f64   │\n╞═════╪═════════════════════╪═══════╡\n│ 7   ┆ 2022-12-07 00:00:00 ┆ null  │\n│ 6   ┆ 2022-12-06 00:00:00 ┆ -42.0 │\n│ 4   ┆ 2022-12-04 00:00:00 ┆ NaN   │\n└─────┴─────────────────────┴───────┘",
      "text/html": "<div><style>\n.dataframe > thead > tr > th,\n.dataframe > tbody > tr > td {\n  text-align: right;\n}\n</style>\n<small>shape: (3, 3)</small><table border=\"1\" class=\"dataframe\"><thead><tr><th>a</th><th>b</th><th>c</th></tr><tr><td>i64</td><td>datetime[μs]</td><td>f64</td></tr></thead><tbody><tr><td>7</td><td>2022-12-07 00:00:00</td><td>null</td></tr><tr><td>6</td><td>2022-12-06 00:00:00</td><td>-42.0</td></tr><tr><td>4</td><td>2022-12-04 00:00:00</td><td>NaN</td></tr></tbody></table></div>"
     },
     "execution_count": 11,
     "metadata": {},
     "output_type": "execute_result"
    }
   ],
   "source": [
    "#with sample you get a random 3 rows\n",
    "df.sample(3)"
   ],
   "metadata": {
    "collapsed": false,
    "ExecuteTime": {
     "start_time": "2023-04-04T11:51:17.148167Z",
     "end_time": "2023-04-04T11:51:17.262051Z"
    }
   }
  },
  {
   "cell_type": "code",
   "execution_count": 12,
   "outputs": [
    {
     "name": "stdout",
     "output_type": "stream",
     "text": [
      "shape: (7, 4)\n",
      "┌────────────┬──────────┬────────────────────────────┬───────┐\n",
      "│ describe   ┆ a        ┆ b                          ┆ c     │\n",
      "│ ---        ┆ ---      ┆ ---                        ┆ ---   │\n",
      "│ str        ┆ f64      ┆ str                        ┆ f64   │\n",
      "╞════════════╪══════════╪════════════════════════════╪═══════╡\n",
      "│ count      ┆ 7.0      ┆ 7                          ┆ 7.0   │\n",
      "│ null_count ┆ 0.0      ┆ 0                          ┆ 1.0   │\n",
      "│ mean       ┆ 4.0      ┆ null                       ┆ NaN   │\n",
      "│ std        ┆ 2.160247 ┆ null                       ┆ NaN   │\n",
      "│ min        ┆ 1.0      ┆ 2022-12-01 00:00:00.000000 ┆ -42.0 │\n",
      "│ max        ┆ 7.0      ┆ 2022-12-07 00:00:00.000000 ┆ 2.0   │\n",
      "│ median     ┆ 4.0      ┆ null                       ┆ 1.5   │\n",
      "└────────────┴──────────┴────────────────────────────┴───────┘\n"
     ]
    }
   ],
   "source": [
    "print(df.describe())"
   ],
   "metadata": {
    "collapsed": false,
    "ExecuteTime": {
     "start_time": "2023-04-04T11:51:17.162317Z",
     "end_time": "2023-04-04T11:51:17.263737Z"
    }
   }
  },
  {
   "cell_type": "code",
   "execution_count": 20,
   "outputs": [
    {
     "data": {
      "text/plain": "shape: (7, 3)\n┌─────┬─────────────────────┬───────┐\n│ a   ┆ b                   ┆ c     │\n│ --- ┆ ---                 ┆ ---   │\n│ i64 ┆ datetime[μs]        ┆ f64   │\n╞═════╪═════════════════════╪═══════╡\n│ 1   ┆ 2022-12-01 00:00:00 ┆ 1.0   │\n│ 2   ┆ 2022-12-02 00:00:00 ┆ 2.0   │\n│ 3   ┆ 2022-12-03 00:00:00 ┆ NaN   │\n│ 4   ┆ 2022-12-04 00:00:00 ┆ NaN   │\n│ 5   ┆ 2022-12-05 00:00:00 ┆ 0.0   │\n│ 6   ┆ 2022-12-06 00:00:00 ┆ -42.0 │\n│ 7   ┆ 2022-12-07 00:00:00 ┆ null  │\n└─────┴─────────────────────┴───────┘",
      "text/html": "<div><style>\n.dataframe > thead > tr > th,\n.dataframe > tbody > tr > td {\n  text-align: right;\n}\n</style>\n<small>shape: (7, 3)</small><table border=\"1\" class=\"dataframe\"><thead><tr><th>a</th><th>b</th><th>c</th></tr><tr><td>i64</td><td>datetime[μs]</td><td>f64</td></tr></thead><tbody><tr><td>1</td><td>2022-12-01 00:00:00</td><td>1.0</td></tr><tr><td>2</td><td>2022-12-02 00:00:00</td><td>2.0</td></tr><tr><td>3</td><td>2022-12-03 00:00:00</td><td>NaN</td></tr><tr><td>4</td><td>2022-12-04 00:00:00</td><td>NaN</td></tr><tr><td>5</td><td>2022-12-05 00:00:00</td><td>0.0</td></tr><tr><td>6</td><td>2022-12-06 00:00:00</td><td>-42.0</td></tr><tr><td>7</td><td>2022-12-07 00:00:00</td><td>null</td></tr></tbody></table></div>"
     },
     "execution_count": 20,
     "metadata": {},
     "output_type": "execute_result"
    }
   ],
   "source": [
    "#select a statement\n",
    "df.select(\n",
    "    pl.col('*')\n",
    ")"
   ],
   "metadata": {
    "collapsed": false,
    "ExecuteTime": {
     "start_time": "2023-04-04T11:52:08.701349Z",
     "end_time": "2023-04-04T11:52:08.843071Z"
    }
   }
  },
  {
   "cell_type": "code",
   "execution_count": 21,
   "outputs": [
    {
     "data": {
      "text/plain": "shape: (7, 2)\n┌─────┬─────────────────────┐\n│ a   ┆ b                   │\n│ --- ┆ ---                 │\n│ i64 ┆ datetime[μs]        │\n╞═════╪═════════════════════╡\n│ 1   ┆ 2022-12-01 00:00:00 │\n│ 2   ┆ 2022-12-02 00:00:00 │\n│ 3   ┆ 2022-12-03 00:00:00 │\n│ 4   ┆ 2022-12-04 00:00:00 │\n│ 5   ┆ 2022-12-05 00:00:00 │\n│ 6   ┆ 2022-12-06 00:00:00 │\n│ 7   ┆ 2022-12-07 00:00:00 │\n└─────┴─────────────────────┘",
      "text/html": "<div><style>\n.dataframe > thead > tr > th,\n.dataframe > tbody > tr > td {\n  text-align: right;\n}\n</style>\n<small>shape: (7, 2)</small><table border=\"1\" class=\"dataframe\"><thead><tr><th>a</th><th>b</th></tr><tr><td>i64</td><td>datetime[μs]</td></tr></thead><tbody><tr><td>1</td><td>2022-12-01 00:00:00</td></tr><tr><td>2</td><td>2022-12-02 00:00:00</td></tr><tr><td>3</td><td>2022-12-03 00:00:00</td></tr><tr><td>4</td><td>2022-12-04 00:00:00</td></tr><tr><td>5</td><td>2022-12-05 00:00:00</td></tr><tr><td>6</td><td>2022-12-06 00:00:00</td></tr><tr><td>7</td><td>2022-12-07 00:00:00</td></tr></tbody></table></div>"
     },
     "execution_count": 21,
     "metadata": {},
     "output_type": "execute_result"
    }
   ],
   "source": [
    "#or yu can specify the columns\n",
    "df.select(\n",
    "    pl.col(['a','b'])\n",
    ")"
   ],
   "metadata": {
    "collapsed": false,
    "ExecuteTime": {
     "start_time": "2023-04-04T11:52:11.825235Z",
     "end_time": "2023-04-04T11:52:11.910090Z"
    }
   }
  },
  {
   "cell_type": "code",
   "execution_count": 22,
   "outputs": [
    {
     "data": {
      "text/plain": "shape: (3, 2)\n┌─────┬─────────────────────┐\n│ a   ┆ b                   │\n│ --- ┆ ---                 │\n│ i64 ┆ datetime[μs]        │\n╞═════╪═════════════════════╡\n│ 1   ┆ 2022-12-01 00:00:00 │\n│ 2   ┆ 2022-12-02 00:00:00 │\n│ 3   ┆ 2022-12-03 00:00:00 │\n└─────┴─────────────────────┘",
      "text/html": "<div><style>\n.dataframe > thead > tr > th,\n.dataframe > tbody > tr > td {\n  text-align: right;\n}\n</style>\n<small>shape: (3, 2)</small><table border=\"1\" class=\"dataframe\"><thead><tr><th>a</th><th>b</th></tr><tr><td>i64</td><td>datetime[μs]</td></tr></thead><tbody><tr><td>1</td><td>2022-12-01 00:00:00</td></tr><tr><td>2</td><td>2022-12-02 00:00:00</td></tr><tr><td>3</td><td>2022-12-03 00:00:00</td></tr></tbody></table></div>"
     },
     "execution_count": 22,
     "metadata": {},
     "output_type": "execute_result"
    }
   ],
   "source": [
    "#let's limit the number of returned rows to 3\n",
    "df.select(\n",
    "    pl.col(['a','b'])\n",
    ").limit(3)"
   ],
   "metadata": {
    "collapsed": false,
    "ExecuteTime": {
     "start_time": "2023-04-04T11:52:15.772545Z",
     "end_time": "2023-04-04T11:52:15.916221Z"
    }
   }
  },
  {
   "cell_type": "code",
   "execution_count": 19,
   "outputs": [
    {
     "data": {
      "text/plain": "shape: (7, 2)\n┌─────────────────────┬───────┐\n│ b                   ┆ c     │\n│ ---                 ┆ ---   │\n│ datetime[μs]        ┆ f64   │\n╞═════════════════════╪═══════╡\n│ 2022-12-01 00:00:00 ┆ 1.0   │\n│ 2022-12-02 00:00:00 ┆ 2.0   │\n│ 2022-12-03 00:00:00 ┆ NaN   │\n│ 2022-12-04 00:00:00 ┆ NaN   │\n│ 2022-12-05 00:00:00 ┆ 0.0   │\n│ 2022-12-06 00:00:00 ┆ -42.0 │\n│ 2022-12-07 00:00:00 ┆ null  │\n└─────────────────────┴───────┘",
      "text/html": "<div><style>\n.dataframe > thead > tr > th,\n.dataframe > tbody > tr > td {\n  text-align: right;\n}\n</style>\n<small>shape: (7, 2)</small><table border=\"1\" class=\"dataframe\"><thead><tr><th>b</th><th>c</th></tr><tr><td>datetime[μs]</td><td>f64</td></tr></thead><tbody><tr><td>2022-12-01 00:00:00</td><td>1.0</td></tr><tr><td>2022-12-02 00:00:00</td><td>2.0</td></tr><tr><td>2022-12-03 00:00:00</td><td>NaN</td></tr><tr><td>2022-12-04 00:00:00</td><td>NaN</td></tr><tr><td>2022-12-05 00:00:00</td><td>0.0</td></tr><tr><td>2022-12-06 00:00:00</td><td>-42.0</td></tr><tr><td>2022-12-07 00:00:00</td><td>null</td></tr></tbody></table></div>"
     },
     "execution_count": 19,
     "metadata": {},
     "output_type": "execute_result"
    }
   ],
   "source": [
    "#or instead of selecting yu can exclude a column\n",
    "df.select(\n",
    "    pl.exclude('a')\n",
    ")"
   ],
   "metadata": {
    "collapsed": false,
    "ExecuteTime": {
     "start_time": "2023-04-04T11:51:45.485053Z",
     "end_time": "2023-04-04T11:51:45.552170Z"
    }
   }
  },
  {
   "cell_type": "code",
   "execution_count": 17,
   "outputs": [
    {
     "data": {
      "text/plain": "shape: (4, 3)\n┌─────┬─────────────────────┬─────┐\n│ a   ┆ b                   ┆ c   │\n│ --- ┆ ---                 ┆ --- │\n│ i64 ┆ datetime[μs]        ┆ f64 │\n╞═════╪═════════════════════╪═════╡\n│ 2   ┆ 2022-12-02 00:00:00 ┆ 2.0 │\n│ 3   ┆ 2022-12-03 00:00:00 ┆ NaN │\n│ 4   ┆ 2022-12-04 00:00:00 ┆ NaN │\n│ 5   ┆ 2022-12-05 00:00:00 ┆ 0.0 │\n└─────┴─────────────────────┴─────┘",
      "text/html": "<div><style>\n.dataframe > thead > tr > th,\n.dataframe > tbody > tr > td {\n  text-align: right;\n}\n</style>\n<small>shape: (4, 3)</small><table border=\"1\" class=\"dataframe\"><thead><tr><th>a</th><th>b</th><th>c</th></tr><tr><td>i64</td><td>datetime[μs]</td><td>f64</td></tr></thead><tbody><tr><td>2</td><td>2022-12-02 00:00:00</td><td>2.0</td></tr><tr><td>3</td><td>2022-12-03 00:00:00</td><td>NaN</td></tr><tr><td>4</td><td>2022-12-04 00:00:00</td><td>NaN</td></tr><tr><td>5</td><td>2022-12-05 00:00:00</td><td>0.0</td></tr></tbody></table></div>"
     },
     "execution_count": 17,
     "metadata": {},
     "output_type": "execute_result"
    }
   ],
   "source": [
    "df.filter(\n",
    "    pl.col('b').is_between(datetime(2022,12,2),datetime(2022,12,5))\n",
    ")"
   ],
   "metadata": {
    "collapsed": false,
    "ExecuteTime": {
     "start_time": "2023-04-04T11:51:17.252776Z",
     "end_time": "2023-04-04T11:51:17.596140Z"
    }
   }
  },
  {
   "cell_type": "code",
   "execution_count": 18,
   "outputs": [
    {
     "data": {
      "text/plain": "shape: (2, 3)\n┌─────┬─────────────────────┬─────┐\n│ a   ┆ b                   ┆ c   │\n│ --- ┆ ---                 ┆ --- │\n│ i64 ┆ datetime[μs]        ┆ f64 │\n╞═════╪═════════════════════╪═════╡\n│ 1   ┆ 2022-12-01 00:00:00 ┆ 1.0 │\n│ 2   ┆ 2022-12-02 00:00:00 ┆ 2.0 │\n└─────┴─────────────────────┴─────┘",
      "text/html": "<div><style>\n.dataframe > thead > tr > th,\n.dataframe > tbody > tr > td {\n  text-align: right;\n}\n</style>\n<small>shape: (2, 3)</small><table border=\"1\" class=\"dataframe\"><thead><tr><th>a</th><th>b</th><th>c</th></tr><tr><td>i64</td><td>datetime[μs]</td><td>f64</td></tr></thead><tbody><tr><td>1</td><td>2022-12-01 00:00:00</td><td>1.0</td></tr><tr><td>2</td><td>2022-12-02 00:00:00</td><td>2.0</td></tr></tbody></table></div>"
     },
     "execution_count": 18,
     "metadata": {},
     "output_type": "execute_result"
    }
   ],
   "source": [
    "df.filter(\n",
    "    (pl.col('a')<=4) & (pl.col('c').is_not_nan())\n",
    ")"
   ],
   "metadata": {
    "collapsed": false,
    "ExecuteTime": {
     "start_time": "2023-04-04T11:51:17.272535Z",
     "end_time": "2023-04-04T11:51:17.614583Z"
    }
   }
  },
  {
   "cell_type": "code",
   "execution_count": 26,
   "outputs": [
    {
     "data": {
      "text/plain": "shape: (7, 5)\n┌─────┬─────────────────────┬───────┬─────┬─────┐\n│ a   ┆ b                   ┆ c     ┆ d   ┆ e   │\n│ --- ┆ ---                 ┆ ---   ┆ --- ┆ --- │\n│ i64 ┆ datetime[μs]        ┆ f64   ┆ i64 ┆ i64 │\n╞═════╪═════════════════════╪═══════╪═════╪═════╡\n│ 1   ┆ 2022-12-01 00:00:00 ┆ 1.0   ┆ 28  ┆ 31  │\n│ 2   ┆ 2022-12-02 00:00:00 ┆ 2.0   ┆ 28  ┆ 32  │\n│ 3   ┆ 2022-12-03 00:00:00 ┆ NaN   ┆ 28  ┆ 33  │\n│ 4   ┆ 2022-12-04 00:00:00 ┆ NaN   ┆ 28  ┆ 34  │\n│ 5   ┆ 2022-12-05 00:00:00 ┆ 0.0   ┆ 28  ┆ 35  │\n│ 6   ┆ 2022-12-06 00:00:00 ┆ -42.0 ┆ 28  ┆ 36  │\n│ 7   ┆ 2022-12-07 00:00:00 ┆ null  ┆ 28  ┆ 37  │\n└─────┴─────────────────────┴───────┴─────┴─────┘",
      "text/html": "<div><style>\n.dataframe > thead > tr > th,\n.dataframe > tbody > tr > td {\n  text-align: right;\n}\n</style>\n<small>shape: (7, 5)</small><table border=\"1\" class=\"dataframe\"><thead><tr><th>a</th><th>b</th><th>c</th><th>d</th><th>e</th></tr><tr><td>i64</td><td>datetime[μs]</td><td>f64</td><td>i64</td><td>i64</td></tr></thead><tbody><tr><td>1</td><td>2022-12-01 00:00:00</td><td>1.0</td><td>28</td><td>31</td></tr><tr><td>2</td><td>2022-12-02 00:00:00</td><td>2.0</td><td>28</td><td>32</td></tr><tr><td>3</td><td>2022-12-03 00:00:00</td><td>NaN</td><td>28</td><td>33</td></tr><tr><td>4</td><td>2022-12-04 00:00:00</td><td>NaN</td><td>28</td><td>34</td></tr><tr><td>5</td><td>2022-12-05 00:00:00</td><td>0.0</td><td>28</td><td>35</td></tr><tr><td>6</td><td>2022-12-06 00:00:00</td><td>-42.0</td><td>28</td><td>36</td></tr><tr><td>7</td><td>2022-12-07 00:00:00</td><td>null</td><td>28</td><td>37</td></tr></tbody></table></div>"
     },
     "execution_count": 26,
     "metadata": {},
     "output_type": "execute_result"
    }
   ],
   "source": [
    "#with columns allows u to create new columns\n",
    "df.with_columns(\n",
    "    pl.col('a').sum().alias('d'),\n",
    "    (pl.col('a')+30).alias('e')\n",
    ")"
   ],
   "metadata": {
    "collapsed": false,
    "ExecuteTime": {
     "start_time": "2023-04-04T11:54:39.353637Z",
     "end_time": "2023-04-04T11:54:39.365065Z"
    }
   }
  },
  {
   "cell_type": "code",
   "execution_count": 27,
   "outputs": [
    {
     "name": "stdout",
     "output_type": "stream",
     "text": [
      "shape: (8, 2)\n",
      "┌─────┬─────┐\n",
      "│ x   ┆ y   │\n",
      "│ --- ┆ --- │\n",
      "│ i64 ┆ str │\n",
      "╞═════╪═════╡\n",
      "│ 0   ┆ A   │\n",
      "│ 1   ┆ A   │\n",
      "│ 2   ┆ B   │\n",
      "│ 3   ┆ A   │\n",
      "│ 4   ┆ C   │\n",
      "│ 5   ┆ B   │\n",
      "│ 6   ┆ B   │\n",
      "│ 7   ┆ A   │\n",
      "└─────┴─────┘\n"
     ]
    }
   ],
   "source": [
    "df2=pl.DataFrame({'x':[0,1,2,3,4,5,6,7],'y':['A','A','B','A','C','B','B','A']})\n",
    "print(df2)"
   ],
   "metadata": {
    "collapsed": false,
    "ExecuteTime": {
     "start_time": "2023-04-04T11:59:50.409825Z",
     "end_time": "2023-04-04T11:59:50.650113Z"
    }
   }
  },
  {
   "cell_type": "code",
   "execution_count": 28,
   "outputs": [
    {
     "data": {
      "text/plain": "shape: (3, 2)\n┌─────┬───────┐\n│ y   ┆ count │\n│ --- ┆ ---   │\n│ str ┆ u32   │\n╞═════╪═══════╡\n│ A   ┆ 4     │\n│ B   ┆ 3     │\n│ C   ┆ 1     │\n└─────┴───────┘",
      "text/html": "<div><style>\n.dataframe > thead > tr > th,\n.dataframe > tbody > tr > td {\n  text-align: right;\n}\n</style>\n<small>shape: (3, 2)</small><table border=\"1\" class=\"dataframe\"><thead><tr><th>y</th><th>count</th></tr><tr><td>str</td><td>u32</td></tr></thead><tbody><tr><td>&quot;A&quot;</td><td>4</td></tr><tr><td>&quot;B&quot;</td><td>3</td></tr><tr><td>&quot;C&quot;</td><td>1</td></tr></tbody></table></div>"
     },
     "execution_count": 28,
     "metadata": {},
     "output_type": "execute_result"
    }
   ],
   "source": [
    "#without maintain yu will get a random order\n",
    "df2.groupby('y',maintain_order=True).count()"
   ],
   "metadata": {
    "collapsed": false,
    "ExecuteTime": {
     "start_time": "2023-04-04T12:00:13.587621Z",
     "end_time": "2023-04-04T12:00:13.756349Z"
    }
   }
  },
  {
   "cell_type": "code",
   "execution_count": 35,
   "outputs": [
    {
     "data": {
      "text/plain": "shape: (3, 3)\n┌─────┬───────┬─────┐\n│ y   ┆ count ┆ sum │\n│ --- ┆ ---   ┆ --- │\n│ str ┆ u32   ┆ i64 │\n╞═════╪═══════╪═════╡\n│ A   ┆ 4     ┆ 11  │\n│ B   ┆ 3     ┆ 13  │\n│ C   ┆ 1     ┆ 4   │\n└─────┴───────┴─────┘",
      "text/html": "<div><style>\n.dataframe > thead > tr > th,\n.dataframe > tbody > tr > td {\n  text-align: right;\n}\n</style>\n<small>shape: (3, 3)</small><table border=\"1\" class=\"dataframe\"><thead><tr><th>y</th><th>count</th><th>sum</th></tr><tr><td>str</td><td>u32</td><td>i64</td></tr></thead><tbody><tr><td>&quot;A&quot;</td><td>4</td><td>11</td></tr><tr><td>&quot;B&quot;</td><td>3</td><td>13</td></tr><tr><td>&quot;C&quot;</td><td>1</td><td>4</td></tr></tbody></table></div>"
     },
     "execution_count": 35,
     "metadata": {},
     "output_type": "execute_result"
    }
   ],
   "source": [
    "df2.groupby('y',maintain_order=True).agg(\n",
    "    pl.col('x').count().alias('count'),\n",
    "    pl.col('x').sum().alias('sum')\n",
    ")"
   ],
   "metadata": {
    "collapsed": false,
    "ExecuteTime": {
     "start_time": "2023-04-04T12:04:31.869649Z",
     "end_time": "2023-04-04T12:04:32.058408Z"
    }
   }
  },
  {
   "cell_type": "code",
   "execution_count": 30,
   "outputs": [
    {
     "name": "stdout",
     "output_type": "stream",
     "text": [
      "shape: (6, 2)\n",
      "┌─────┬─────┐\n",
      "│ a   ┆ b   │\n",
      "│ --- ┆ --- │\n",
      "│ i64 ┆ i64 │\n",
      "╞═════╪═════╡\n",
      "│ 1   ┆ 2   │\n",
      "│ 2   ┆ 3   │\n",
      "│ 3   ┆ 4   │\n",
      "│ 4   ┆ 5   │\n",
      "│ 5   ┆ 6   │\n",
      "│ 6   ┆ 7   │\n",
      "└─────┴─────┘\n"
     ]
    }
   ],
   "source": [
    "df3=pl.DataFrame({'a':[1,2,3,4,5,6],'b':[2,3,4,5,6,7]})\n",
    "print(df3)"
   ],
   "metadata": {
    "collapsed": false,
    "ExecuteTime": {
     "start_time": "2023-04-04T12:01:45.797814Z",
     "end_time": "2023-04-04T12:01:45.919968Z"
    }
   }
  },
  {
   "cell_type": "code",
   "execution_count": 31,
   "outputs": [
    {
     "name": "stdout",
     "output_type": "stream",
     "text": [
      "shape: (6, 1)\n",
      "┌─────┐\n",
      "│ a*b │\n",
      "│ --- │\n",
      "│ i64 │\n",
      "╞═════╡\n",
      "│ 2   │\n",
      "│ 6   │\n",
      "│ 12  │\n",
      "│ 20  │\n",
      "│ 30  │\n",
      "│ 42  │\n",
      "└─────┘\n"
     ]
    }
   ],
   "source": [
    "new_df=df3.with_columns(\n",
    "    (pl.col('a')*pl.col('b')).alias('a*b')\n",
    ").select(\n",
    "    pl.all().exclude(['a','b'])\n",
    ")\n",
    "print(new_df)"
   ],
   "metadata": {
    "collapsed": false,
    "ExecuteTime": {
     "start_time": "2023-04-04T12:02:21.090769Z",
     "end_time": "2023-04-04T12:02:21.207392Z"
    }
   }
  },
  {
   "cell_type": "code",
   "execution_count": 32,
   "outputs": [],
   "source": [
    "df=pl.DataFrame({\"a\":[1,2,3,4,5,6,7],\"b\":[datetime(2022,12,1)+timedelta(days=idx) for idx in range(7)],\"c\":[1, 2.0, np.NaN, np.NaN, 0, -42, None]})\n",
    "df1=pl.DataFrame({\"x\":[1,2,3,4,5,6,7],\"y\":[1, 2.0, np.NaN, np.NaN, 0, -42, None]})\n",
    "#both dataframes have an id-like column ,we can use it to join them"
   ],
   "metadata": {
    "collapsed": false,
    "ExecuteTime": {
     "start_time": "2023-04-04T12:03:38.576458Z",
     "end_time": "2023-04-04T12:03:38.742346Z"
    }
   }
  },
  {
   "cell_type": "code",
   "execution_count": 33,
   "outputs": [
    {
     "data": {
      "text/plain": "shape: (7, 4)\n┌─────┬─────────────────────┬───────┬───────┐\n│ a   ┆ b                   ┆ c     ┆ y     │\n│ --- ┆ ---                 ┆ ---   ┆ ---   │\n│ i64 ┆ datetime[μs]        ┆ f64   ┆ f64   │\n╞═════╪═════════════════════╪═══════╪═══════╡\n│ 1   ┆ 2022-12-01 00:00:00 ┆ 1.0   ┆ 1.0   │\n│ 2   ┆ 2022-12-02 00:00:00 ┆ 2.0   ┆ 2.0   │\n│ 3   ┆ 2022-12-03 00:00:00 ┆ NaN   ┆ NaN   │\n│ 4   ┆ 2022-12-04 00:00:00 ┆ NaN   ┆ NaN   │\n│ 5   ┆ 2022-12-05 00:00:00 ┆ 0.0   ┆ 0.0   │\n│ 6   ┆ 2022-12-06 00:00:00 ┆ -42.0 ┆ -42.0 │\n│ 7   ┆ 2022-12-07 00:00:00 ┆ null  ┆ null  │\n└─────┴─────────────────────┴───────┴───────┘",
      "text/html": "<div><style>\n.dataframe > thead > tr > th,\n.dataframe > tbody > tr > td {\n  text-align: right;\n}\n</style>\n<small>shape: (7, 4)</small><table border=\"1\" class=\"dataframe\"><thead><tr><th>a</th><th>b</th><th>c</th><th>y</th></tr><tr><td>i64</td><td>datetime[μs]</td><td>f64</td><td>f64</td></tr></thead><tbody><tr><td>1</td><td>2022-12-01 00:00:00</td><td>1.0</td><td>1.0</td></tr><tr><td>2</td><td>2022-12-02 00:00:00</td><td>2.0</td><td>2.0</td></tr><tr><td>3</td><td>2022-12-03 00:00:00</td><td>NaN</td><td>NaN</td></tr><tr><td>4</td><td>2022-12-04 00:00:00</td><td>NaN</td><td>NaN</td></tr><tr><td>5</td><td>2022-12-05 00:00:00</td><td>0.0</td><td>0.0</td></tr><tr><td>6</td><td>2022-12-06 00:00:00</td><td>-42.0</td><td>-42.0</td></tr><tr><td>7</td><td>2022-12-07 00:00:00</td><td>null</td><td>null</td></tr></tbody></table></div>"
     },
     "execution_count": 33,
     "metadata": {},
     "output_type": "execute_result"
    }
   ],
   "source": [
    "df.join(df1, left_on=\"a\", right_on=\"x\")"
   ],
   "metadata": {
    "collapsed": false,
    "ExecuteTime": {
     "start_time": "2023-04-04T12:03:50.707998Z",
     "end_time": "2023-04-04T12:03:50.809835Z"
    }
   }
  },
  {
   "cell_type": "code",
   "execution_count": 34,
   "outputs": [
    {
     "data": {
      "text/plain": "shape: (7, 5)\n┌─────┬─────────────────────┬───────┬─────┬───────┐\n│ a   ┆ b                   ┆ c     ┆ x   ┆ y     │\n│ --- ┆ ---                 ┆ ---   ┆ --- ┆ ---   │\n│ i64 ┆ datetime[μs]        ┆ f64   ┆ i64 ┆ f64   │\n╞═════╪═════════════════════╪═══════╪═════╪═══════╡\n│ 1   ┆ 2022-12-01 00:00:00 ┆ 1.0   ┆ 1   ┆ 1.0   │\n│ 2   ┆ 2022-12-02 00:00:00 ┆ 2.0   ┆ 2   ┆ 2.0   │\n│ 3   ┆ 2022-12-03 00:00:00 ┆ NaN   ┆ 3   ┆ NaN   │\n│ 4   ┆ 2022-12-04 00:00:00 ┆ NaN   ┆ 4   ┆ NaN   │\n│ 5   ┆ 2022-12-05 00:00:00 ┆ 0.0   ┆ 5   ┆ 0.0   │\n│ 6   ┆ 2022-12-06 00:00:00 ┆ -42.0 ┆ 6   ┆ -42.0 │\n│ 7   ┆ 2022-12-07 00:00:00 ┆ null  ┆ 7   ┆ null  │\n└─────┴─────────────────────┴───────┴─────┴───────┘",
      "text/html": "<div><style>\n.dataframe > thead > tr > th,\n.dataframe > tbody > tr > td {\n  text-align: right;\n}\n</style>\n<small>shape: (7, 5)</small><table border=\"1\" class=\"dataframe\"><thead><tr><th>a</th><th>b</th><th>c</th><th>x</th><th>y</th></tr><tr><td>i64</td><td>datetime[μs]</td><td>f64</td><td>i64</td><td>f64</td></tr></thead><tbody><tr><td>1</td><td>2022-12-01 00:00:00</td><td>1.0</td><td>1</td><td>1.0</td></tr><tr><td>2</td><td>2022-12-02 00:00:00</td><td>2.0</td><td>2</td><td>2.0</td></tr><tr><td>3</td><td>2022-12-03 00:00:00</td><td>NaN</td><td>3</td><td>NaN</td></tr><tr><td>4</td><td>2022-12-04 00:00:00</td><td>NaN</td><td>4</td><td>NaN</td></tr><tr><td>5</td><td>2022-12-05 00:00:00</td><td>0.0</td><td>5</td><td>0.0</td></tr><tr><td>6</td><td>2022-12-06 00:00:00</td><td>-42.0</td><td>6</td><td>-42.0</td></tr><tr><td>7</td><td>2022-12-07 00:00:00</td><td>null</td><td>7</td><td>null</td></tr></tbody></table></div>"
     },
     "execution_count": 34,
     "metadata": {},
     "output_type": "execute_result"
    }
   ],
   "source": [
    "pl.concat([df,df1],how='horizontal')"
   ],
   "metadata": {
    "collapsed": false,
    "ExecuteTime": {
     "start_time": "2023-04-04T12:04:15.856416Z",
     "end_time": "2023-04-04T12:04:16.066812Z"
    }
   }
  },
  {
   "cell_type": "code",
   "execution_count": null,
   "outputs": [],
   "source": [],
   "metadata": {
    "collapsed": false
   }
  }
 ],
 "metadata": {
  "kernelspec": {
   "display_name": "Python 3",
   "language": "python",
   "name": "python3"
  },
  "language_info": {
   "codemirror_mode": {
    "name": "ipython",
    "version": 2
   },
   "file_extension": ".py",
   "mimetype": "text/x-python",
   "name": "python",
   "nbconvert_exporter": "python",
   "pygments_lexer": "ipython2",
   "version": "2.7.6"
  }
 },
 "nbformat": 4,
 "nbformat_minor": 0
}
